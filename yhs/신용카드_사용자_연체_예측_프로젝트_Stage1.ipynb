{
  "nbformat": 4,
  "nbformat_minor": 0,
  "metadata": {
    "colab": {
      "provenance": []
    },
    "kernelspec": {
      "name": "python3",
      "display_name": "Python 3"
    },
    "language_info": {
      "name": "python"
    }
  },
  "cells": [
    {
      "cell_type": "markdown",
      "source": [
        "# **신용카드 사용자 연체 프로젝트**\n",
        "# **Stage 1**"
      ],
      "metadata": {
        "id": "cbXmnjHjNoOl"
      }
    },
    {
      "cell_type": "markdown",
      "source": [
        "# **1. Intro**\n",
        "\n",
        "**'내 집 마련'**　누구나 마음 한켠에서 고민하는 주제입니다.<br/>\n",
        "- *통계청 2015년 자료에 의하면 (https://bit.ly/2SFyzMA)*    \n",
        "*일반적인 한국인의 절반은 48.1%는 아파트에 살고 있습니다.*     \n",
        "*또한 아파트를 부의 증식 수단으로 생각 하기 때문에 누구나 아파트 가격에 관심이 많습니다.*  \n",
        "*하지만 자고 일어나면 달라지는 아파트 가격, 언제 집을 구매하면 좋을까요? *  \n",
        "*초보부터 고수까지 모두가 참여하는 아파트 실거래가 예측 프로젝트를 소개합니다!*    \n",
        "\n",
        "\n",
        "\n",
        "<p style='text-align: right;'> January, 2023, ver.001 | DaCrew 4기 TEAM 먼스크루</p>\n",
        "\n",
        "---\n",
        "\n",
        "#### <font color=\"midnightblue\">**아파트 실거래가 예측 프로젝트**</font>에 참여하신 데이커 여러분, 환영합니다. 🙌\n",
        "\n",
        "신나는 퇴근길, 서울 야경을 보면 저렇게 많은 불빛 가운데 내 집은 없다는 사실에 고민이 많아집니다.🥲<br/>\n",
        "하지만 하루가 다르게 자고 일어나면 달라지는 부동산 가격, <br/>\n",
        "높은 가격에 구매하기 싫은 구매자의 심리는 우리를 고민속에 빠지게 만듭니다.<br/>\n",
        "이번 교육을 통해 **아파트 매매 데이터**로 아파트 매매 가격을 예측해 내는 멋진 데이커🥇가 되어 보세요!\n",
        "\n",
        "---\n",
        "\n"
      ],
      "metadata": {
        "id": "9tio0IbMN3Qh"
      }
    },
    {
      "cell_type": "markdown",
      "source": [
        "\n",
        "# **2. 프로젝트 배경**\n",
        "\n",
        "최근 뉴스를 보면 부동산 가격이 떨어지고 있음을 알 수 있습니다. <br>\n",
        "하지만 우리의 기억 속에는 1년 전 치솟는 가격속에 부동산 열풍이 기억납니다. <br>\n",
        "생각해보면 우리는 가격이 오르면 떨어지기를 기다리고 정작 가격이 떨어지면 최저점이 될 때 까지 기다리다 시기를 놓치곤 합니다. <br>\n",
        "매번 남이 사면 오르고 내가 사면 떨어지는 마법같은 가격의 비밀을 데이터를 통해 합리적인 가격을 예측해 보고자 해당 프로젝트를 만들었습니다.\n"
      ],
      "metadata": {
        "id": "sI-5ilABRoIi"
      }
    },
    {
      "cell_type": "markdown",
      "source": [
        "# **3. 데이터 살펴보기**"
      ],
      "metadata": {
        "id": "LQz--AsTRoD2"
      }
    },
    {
      "cell_type": "markdown",
      "source": [
        "## 3.1. 데이터 불러오기\n",
        "\n",
        "데이터 분석을 위한 첫 관문은 **데이터를 사용할 수 있도록 불러오는 것입니다.**    \n",
        "불러온 데이터를 살펴보며 데이터의 형식과 대략적인 특징을 파악하고, 어떤 분석이 가능한지 확인하여 방향을 잡는 과정이 필요합니다.\n",
        "\n",
        "\n",
        "---\n",
        "\n",
        "\n",
        "\n",
        "이번 프로젝트의 데이터는 총 5가지이며 모두 csv 파일입니다.\n",
        "\n",
        "> 1. **train.csv** : 서울/부산 지역의 1,100,000여개 거래 데이터, 아파트 거래일, 지역, 전용면적, 실 거래가 등의 정보\n",
        "> 2. **test.csv** : 실 거래가를 제외하고 train.csv와 동일\n",
        "> 3. **park.csv** : 서울/부산 지역의 공원에 대한 정보\n",
        "> 4. **day_care_center.csv** : 서울/부산 지역의 어린이집에 대한 정보 정답 파일\n",
        "> 5. **submission.csv** : 제출 대상 파일\n",
        "\n",
        "분석에 사용할 데이터 파일을 불러오기 위해, **pandas 패키지**가 가지고 있는 **<font color=\"orange\">read_csv()</font>** 함수를 사용하겠습니다.   \n",
        "- pandas 패키지에 관한 내용은 다음 링크를 참고해주세요! [pandas 공식 유저 가이드](https://pandas.pydata.org/docs/user_guide/index.html#user-guide)    \n",
        "- 패키지 불러오기: **<font color=\"orange\">import 패키지명 as 약어</font>**\n",
        "\n",
        "---\n",
        "\n",
        "\n",
        "\n",
        "\n",
        "\n"
      ],
      "metadata": {
        "id": "nx6ilKx_R5Zv"
      }
    },
    {
      "cell_type": "markdown",
      "source": [
        "### Inst.\n",
        "\n",
        "1. pandas 패키지를 pd 라는 약칭으로 import 하세요.\n",
        "\n",
        "2. read_csv() 메소드를 이용해    \n",
        "<font color=\"green\">train.csv, test.csv, park.csv, day_care_center.csv, sample_submission.csv </font>파일을    \n",
        "<font color=\"green\">train, test, park, day_care_center, sample_submission</font> 이름으로 불러오세요!"
      ],
      "metadata": {
        "id": "FXXQMs4RUlSG"
      }
    },
    {
      "cell_type": "code",
      "source": [
        "# 1. pandas 패키지를 pd 라는 약칭으로 import 하세요.\n"
      ],
      "metadata": {
        "id": "HtQCKzjBWe7q"
      },
      "execution_count": null,
      "outputs": []
    },
    {
      "cell_type": "code",
      "source": [
        "# 2. read_csv() 메소드를 이용해 파일 불러오세요.\n"
      ],
      "metadata": {
        "id": "X7B1CAUQHcY9"
      },
      "execution_count": null,
      "outputs": []
    },
    {
      "cell_type": "markdown",
      "source": [
        "### Hint.\n",
        "- <font color=\"orange\">약칭.메소드</font>로 패키지를 사용할 수 있습니다.\n",
        "    - <font color=\"orange\">OO.OOOO_OOO()</font>\n",
        "\n",
        "- 파일을 불러올 변수 = 약칭.read_csv(\"불러올 파일 경로\")\n"
      ],
      "metadata": {
        "id": "U6S73lUaWfVC"
      }
    },
    {
      "cell_type": "markdown",
      "metadata": {
        "id": "4c690ebc-7d31-4d7e-9400-7c60ab674b30"
      },
      "source": [
        "### Solution.\n",
        "**데이터를 불러오는 방식은 접속 환경(로컬 컴퓨터, Colab 등)에 따라 다양**하나, [Jupyter Lite](https://jupyter.org/try-jupyter/lab/)에서 불러올 수 있는 방법을 소개하겠습니다.    \n",
        "<img src='http://drive.google.com/uc?export=view&id=165LPD276TSlFXZYjFSL5JKlIlYiZwszc' /><br>\n",
        "왼쪽 위에서 파일 업로드 아이콘을 선택하여 데이터 5개를 업로드합니다."
      ]
    },
    {
      "cell_type": "code",
      "source": [
        "# 1. pandas 패키지를 pd 라는 약칭으로 import 하세요.\n",
        "import pandas as pd # import 패키지명 as 약어"
      ],
      "metadata": {
        "id": "I96pvlKPQSSC"
      },
      "execution_count": 1,
      "outputs": []
    },
    {
      "cell_type": "code",
      "source": [
        "from google.colab import drive\n",
        "import pandas as pd\n",
        "\n",
        "drive.mount('/content/drive')\n",
        "\n",
        "PATH = \"/content/drive/MyDrive/대외활동/데이크루6기_보초석분/data/\""
      ],
      "metadata": {
        "colab": {
          "base_uri": "https://localhost:8080/"
        },
        "id": "sZGIopfOD9me",
        "outputId": "a61fc78a-8849-4f2d-e6c3-aa654b05ff08"
      },
      "execution_count": 4,
      "outputs": [
        {
          "output_type": "stream",
          "name": "stdout",
          "text": [
            "Drive already mounted at /content/drive; to attempt to forcibly remount, call drive.mount(\"/content/drive\", force_remount=True).\n"
          ]
        }
      ]
    },
    {
      "cell_type": "code",
      "source": [
        "# 2. read_csv() 메소드를 이용해 파일 불러오세요.\n",
        "train = pd.read_csv(PATH+'train.csv') # pd.read_csv(PATH) -> PATH에 로컬 저장 경로 입력 ex) C:/home/data/train.csv\n",
        "test = pd.read_csv(PATH+'test.csv')\n",
        "submission = pd.read_csv(PATH+'sample_submission.csv')"
      ],
      "metadata": {
        "id": "WK8YV7NdLWfC"
      },
      "execution_count": 8,
      "outputs": []
    },
    {
      "cell_type": "markdown",
      "metadata": {
        "id": "c8f86a92-b6aa-48b9-bc71-0cf3409bea37"
      },
      "source": [
        "## 3.2. 데이터 확인\n",
        "\n",
        "데이터가 잘 불러와졌는지, 어떻게 생겼는지 살펴보겠습니다.\n",
        "\n",
        "데이터 과학 실무 과정에서는 데이터를 살펴볼 때, **이상치나 결측치**가 존재하는지 알기 위하여    \n",
        "**head()**, **info()** 메소드를 활용하는 경우가 많습니다.\n",
        "\n",
        "그럼 데이터가 어떻게 생겼는지 이 두 가지 메소드를 이용하여 직접 확인해 보세요!"
      ]
    },
    {
      "cell_type": "markdown",
      "metadata": {
        "id": "4015f10a-f21e-4651-889e-7d35ff76345f"
      },
      "source": [
        "### Inst.\n",
        "1.   **head()** 함수를 사용하여 train, test, submission 데이터의 **처음 5행**을 확인해 보세요.\n",
        "2.   **info()** 함수를 사용하여 train, test, submission 데이터의  **결측치와 변수 타입**을 확인해 보세요.\n"
      ]
    },
    {
      "cell_type": "code",
      "source": [
        "# 1. head() 함수를 사용하여 train, test, submission 데이터의 처음 5행을 확인해 보세요.\n"
      ],
      "metadata": {
        "id": "WhWVdrejvGnC"
      },
      "execution_count": null,
      "outputs": []
    },
    {
      "cell_type": "code",
      "source": [],
      "metadata": {
        "id": "Q5C2y2uVHj0f"
      },
      "execution_count": null,
      "outputs": []
    },
    {
      "cell_type": "code",
      "source": [],
      "metadata": {
        "id": "_jBQa4WNHjvA"
      },
      "execution_count": null,
      "outputs": []
    },
    {
      "cell_type": "code",
      "source": [
        "# 2. info() 함수를 사용하여 train, test, submission 데이터의 결측치와 변수 타입을 확인해 보세요.\n"
      ],
      "metadata": {
        "id": "_yfOCys_Hf2Y"
      },
      "execution_count": null,
      "outputs": []
    },
    {
      "cell_type": "code",
      "source": [],
      "metadata": {
        "id": "mJCscgyGHkX4"
      },
      "execution_count": null,
      "outputs": []
    },
    {
      "cell_type": "code",
      "source": [],
      "metadata": {
        "id": "9JxMAr9rHkRt"
      },
      "execution_count": null,
      "outputs": []
    },
    {
      "cell_type": "markdown",
      "metadata": {
        "id": "3e39373e-cd93-4e03-b9c1-45fa6f1bebc7"
      },
      "source": [
        "### Hint.\n",
        "- <font color=\"orange\">head()</font> : 처음 5행 선택    \n",
        "    - <font color=\"orange\">(숫자)</font>를 넣으면 지정 숫자만큼의 행을 선택할 수 있습니다.\n",
        "\n",
        "- <font color=\"orange\">info()</font> : 데이터 결측치 및 변수들의 타입 확인\n"
      ]
    },
    {
      "cell_type": "markdown",
      "metadata": {
        "id": "8f4042cc-5537-46b5-8418-85f843bdc03e"
      },
      "source": [
        "### Solution."
      ]
    },
    {
      "cell_type": "code",
      "execution_count": 9,
      "metadata": {
        "id": "184b5073-db92-4972-a8db-51ae8b4d2657",
        "outputId": "94838b6a-4b53-440d-a5df-04fcc8417410",
        "colab": {
          "base_uri": "https://localhost:8080/",
          "height": 426
        }
      },
      "outputs": [
        {
          "output_type": "execute_result",
          "data": {
            "text/plain": [
              "   index gender car reality  child_num  income_total           income_type  \\\n",
              "0      0      F   N       N          0      202500.0  Commercial associate   \n",
              "1      1      F   N       Y          1      247500.0  Commercial associate   \n",
              "2      2      M   Y       Y          0      450000.0               Working   \n",
              "3      3      F   N       Y          0      202500.0  Commercial associate   \n",
              "4      4      F   Y       Y          0      157500.0         State servant   \n",
              "\n",
              "                        edu_type     family_type           house_type  \\\n",
              "0               Higher education         Married  Municipal apartment   \n",
              "1  Secondary / secondary special  Civil marriage    House / apartment   \n",
              "2               Higher education         Married    House / apartment   \n",
              "3  Secondary / secondary special         Married    House / apartment   \n",
              "4               Higher education         Married    House / apartment   \n",
              "\n",
              "   DAYS_BIRTH  DAYS_EMPLOYED  FLAG_MOBIL  work_phone  phone  email  \\\n",
              "0      -13899          -4709           1           0      0      0   \n",
              "1      -11380          -1540           1           0      0      1   \n",
              "2      -19087          -4434           1           0      1      0   \n",
              "3      -15088          -2092           1           0      1      0   \n",
              "4      -15037          -2105           1           0      0      0   \n",
              "\n",
              "    occyp_type  family_size  begin_month  credit  \n",
              "0          NaN          2.0         -6.0     1.0  \n",
              "1     Laborers          3.0         -5.0     1.0  \n",
              "2     Managers          2.0        -22.0     2.0  \n",
              "3  Sales staff          2.0        -37.0     0.0  \n",
              "4     Managers          2.0        -26.0     2.0  "
            ],
            "text/html": [
              "\n",
              "\n",
              "  <div id=\"df-98931ef2-88c3-4448-80b5-2f379c49f3fa\">\n",
              "    <div class=\"colab-df-container\">\n",
              "      <div>\n",
              "<style scoped>\n",
              "    .dataframe tbody tr th:only-of-type {\n",
              "        vertical-align: middle;\n",
              "    }\n",
              "\n",
              "    .dataframe tbody tr th {\n",
              "        vertical-align: top;\n",
              "    }\n",
              "\n",
              "    .dataframe thead th {\n",
              "        text-align: right;\n",
              "    }\n",
              "</style>\n",
              "<table border=\"1\" class=\"dataframe\">\n",
              "  <thead>\n",
              "    <tr style=\"text-align: right;\">\n",
              "      <th></th>\n",
              "      <th>index</th>\n",
              "      <th>gender</th>\n",
              "      <th>car</th>\n",
              "      <th>reality</th>\n",
              "      <th>child_num</th>\n",
              "      <th>income_total</th>\n",
              "      <th>income_type</th>\n",
              "      <th>edu_type</th>\n",
              "      <th>family_type</th>\n",
              "      <th>house_type</th>\n",
              "      <th>DAYS_BIRTH</th>\n",
              "      <th>DAYS_EMPLOYED</th>\n",
              "      <th>FLAG_MOBIL</th>\n",
              "      <th>work_phone</th>\n",
              "      <th>phone</th>\n",
              "      <th>email</th>\n",
              "      <th>occyp_type</th>\n",
              "      <th>family_size</th>\n",
              "      <th>begin_month</th>\n",
              "      <th>credit</th>\n",
              "    </tr>\n",
              "  </thead>\n",
              "  <tbody>\n",
              "    <tr>\n",
              "      <th>0</th>\n",
              "      <td>0</td>\n",
              "      <td>F</td>\n",
              "      <td>N</td>\n",
              "      <td>N</td>\n",
              "      <td>0</td>\n",
              "      <td>202500.0</td>\n",
              "      <td>Commercial associate</td>\n",
              "      <td>Higher education</td>\n",
              "      <td>Married</td>\n",
              "      <td>Municipal apartment</td>\n",
              "      <td>-13899</td>\n",
              "      <td>-4709</td>\n",
              "      <td>1</td>\n",
              "      <td>0</td>\n",
              "      <td>0</td>\n",
              "      <td>0</td>\n",
              "      <td>NaN</td>\n",
              "      <td>2.0</td>\n",
              "      <td>-6.0</td>\n",
              "      <td>1.0</td>\n",
              "    </tr>\n",
              "    <tr>\n",
              "      <th>1</th>\n",
              "      <td>1</td>\n",
              "      <td>F</td>\n",
              "      <td>N</td>\n",
              "      <td>Y</td>\n",
              "      <td>1</td>\n",
              "      <td>247500.0</td>\n",
              "      <td>Commercial associate</td>\n",
              "      <td>Secondary / secondary special</td>\n",
              "      <td>Civil marriage</td>\n",
              "      <td>House / apartment</td>\n",
              "      <td>-11380</td>\n",
              "      <td>-1540</td>\n",
              "      <td>1</td>\n",
              "      <td>0</td>\n",
              "      <td>0</td>\n",
              "      <td>1</td>\n",
              "      <td>Laborers</td>\n",
              "      <td>3.0</td>\n",
              "      <td>-5.0</td>\n",
              "      <td>1.0</td>\n",
              "    </tr>\n",
              "    <tr>\n",
              "      <th>2</th>\n",
              "      <td>2</td>\n",
              "      <td>M</td>\n",
              "      <td>Y</td>\n",
              "      <td>Y</td>\n",
              "      <td>0</td>\n",
              "      <td>450000.0</td>\n",
              "      <td>Working</td>\n",
              "      <td>Higher education</td>\n",
              "      <td>Married</td>\n",
              "      <td>House / apartment</td>\n",
              "      <td>-19087</td>\n",
              "      <td>-4434</td>\n",
              "      <td>1</td>\n",
              "      <td>0</td>\n",
              "      <td>1</td>\n",
              "      <td>0</td>\n",
              "      <td>Managers</td>\n",
              "      <td>2.0</td>\n",
              "      <td>-22.0</td>\n",
              "      <td>2.0</td>\n",
              "    </tr>\n",
              "    <tr>\n",
              "      <th>3</th>\n",
              "      <td>3</td>\n",
              "      <td>F</td>\n",
              "      <td>N</td>\n",
              "      <td>Y</td>\n",
              "      <td>0</td>\n",
              "      <td>202500.0</td>\n",
              "      <td>Commercial associate</td>\n",
              "      <td>Secondary / secondary special</td>\n",
              "      <td>Married</td>\n",
              "      <td>House / apartment</td>\n",
              "      <td>-15088</td>\n",
              "      <td>-2092</td>\n",
              "      <td>1</td>\n",
              "      <td>0</td>\n",
              "      <td>1</td>\n",
              "      <td>0</td>\n",
              "      <td>Sales staff</td>\n",
              "      <td>2.0</td>\n",
              "      <td>-37.0</td>\n",
              "      <td>0.0</td>\n",
              "    </tr>\n",
              "    <tr>\n",
              "      <th>4</th>\n",
              "      <td>4</td>\n",
              "      <td>F</td>\n",
              "      <td>Y</td>\n",
              "      <td>Y</td>\n",
              "      <td>0</td>\n",
              "      <td>157500.0</td>\n",
              "      <td>State servant</td>\n",
              "      <td>Higher education</td>\n",
              "      <td>Married</td>\n",
              "      <td>House / apartment</td>\n",
              "      <td>-15037</td>\n",
              "      <td>-2105</td>\n",
              "      <td>1</td>\n",
              "      <td>0</td>\n",
              "      <td>0</td>\n",
              "      <td>0</td>\n",
              "      <td>Managers</td>\n",
              "      <td>2.0</td>\n",
              "      <td>-26.0</td>\n",
              "      <td>2.0</td>\n",
              "    </tr>\n",
              "  </tbody>\n",
              "</table>\n",
              "</div>\n",
              "      <button class=\"colab-df-convert\" onclick=\"convertToInteractive('df-98931ef2-88c3-4448-80b5-2f379c49f3fa')\"\n",
              "              title=\"Convert this dataframe to an interactive table.\"\n",
              "              style=\"display:none;\">\n",
              "\n",
              "  <svg xmlns=\"http://www.w3.org/2000/svg\" height=\"24px\"viewBox=\"0 0 24 24\"\n",
              "       width=\"24px\">\n",
              "    <path d=\"M0 0h24v24H0V0z\" fill=\"none\"/>\n",
              "    <path d=\"M18.56 5.44l.94 2.06.94-2.06 2.06-.94-2.06-.94-.94-2.06-.94 2.06-2.06.94zm-11 1L8.5 8.5l.94-2.06 2.06-.94-2.06-.94L8.5 2.5l-.94 2.06-2.06.94zm10 10l.94 2.06.94-2.06 2.06-.94-2.06-.94-.94-2.06-.94 2.06-2.06.94z\"/><path d=\"M17.41 7.96l-1.37-1.37c-.4-.4-.92-.59-1.43-.59-.52 0-1.04.2-1.43.59L10.3 9.45l-7.72 7.72c-.78.78-.78 2.05 0 2.83L4 21.41c.39.39.9.59 1.41.59.51 0 1.02-.2 1.41-.59l7.78-7.78 2.81-2.81c.8-.78.8-2.07 0-2.86zM5.41 20L4 18.59l7.72-7.72 1.47 1.35L5.41 20z\"/>\n",
              "  </svg>\n",
              "      </button>\n",
              "\n",
              "\n",
              "\n",
              "    <div id=\"df-612c850d-2a23-4ad3-ad96-552ad9065447\">\n",
              "      <button class=\"colab-df-quickchart\" onclick=\"quickchart('df-612c850d-2a23-4ad3-ad96-552ad9065447')\"\n",
              "              title=\"Suggest charts.\"\n",
              "              style=\"display:none;\">\n",
              "\n",
              "<svg xmlns=\"http://www.w3.org/2000/svg\" height=\"24px\"viewBox=\"0 0 24 24\"\n",
              "     width=\"24px\">\n",
              "    <g>\n",
              "        <path d=\"M19 3H5c-1.1 0-2 .9-2 2v14c0 1.1.9 2 2 2h14c1.1 0 2-.9 2-2V5c0-1.1-.9-2-2-2zM9 17H7v-7h2v7zm4 0h-2V7h2v10zm4 0h-2v-4h2v4z\"/>\n",
              "    </g>\n",
              "</svg>\n",
              "      </button>\n",
              "    </div>\n",
              "\n",
              "<style>\n",
              "  .colab-df-quickchart {\n",
              "    background-color: #E8F0FE;\n",
              "    border: none;\n",
              "    border-radius: 50%;\n",
              "    cursor: pointer;\n",
              "    display: none;\n",
              "    fill: #1967D2;\n",
              "    height: 32px;\n",
              "    padding: 0 0 0 0;\n",
              "    width: 32px;\n",
              "  }\n",
              "\n",
              "  .colab-df-quickchart:hover {\n",
              "    background-color: #E2EBFA;\n",
              "    box-shadow: 0px 1px 2px rgba(60, 64, 67, 0.3), 0px 1px 3px 1px rgba(60, 64, 67, 0.15);\n",
              "    fill: #174EA6;\n",
              "  }\n",
              "\n",
              "  [theme=dark] .colab-df-quickchart {\n",
              "    background-color: #3B4455;\n",
              "    fill: #D2E3FC;\n",
              "  }\n",
              "\n",
              "  [theme=dark] .colab-df-quickchart:hover {\n",
              "    background-color: #434B5C;\n",
              "    box-shadow: 0px 1px 3px 1px rgba(0, 0, 0, 0.15);\n",
              "    filter: drop-shadow(0px 1px 2px rgba(0, 0, 0, 0.3));\n",
              "    fill: #FFFFFF;\n",
              "  }\n",
              "</style>\n",
              "\n",
              "    <script>\n",
              "      async function quickchart(key) {\n",
              "        const containerElement = document.querySelector('#' + key);\n",
              "        const charts = await google.colab.kernel.invokeFunction(\n",
              "            'suggestCharts', [key], {});\n",
              "      }\n",
              "    </script>\n",
              "\n",
              "      <script>\n",
              "\n",
              "function displayQuickchartButton(domScope) {\n",
              "  let quickchartButtonEl =\n",
              "    domScope.querySelector('#df-612c850d-2a23-4ad3-ad96-552ad9065447 button.colab-df-quickchart');\n",
              "  quickchartButtonEl.style.display =\n",
              "    google.colab.kernel.accessAllowed ? 'block' : 'none';\n",
              "}\n",
              "\n",
              "        displayQuickchartButton(document);\n",
              "      </script>\n",
              "      <style>\n",
              "    .colab-df-container {\n",
              "      display:flex;\n",
              "      flex-wrap:wrap;\n",
              "      gap: 12px;\n",
              "    }\n",
              "\n",
              "    .colab-df-convert {\n",
              "      background-color: #E8F0FE;\n",
              "      border: none;\n",
              "      border-radius: 50%;\n",
              "      cursor: pointer;\n",
              "      display: none;\n",
              "      fill: #1967D2;\n",
              "      height: 32px;\n",
              "      padding: 0 0 0 0;\n",
              "      width: 32px;\n",
              "    }\n",
              "\n",
              "    .colab-df-convert:hover {\n",
              "      background-color: #E2EBFA;\n",
              "      box-shadow: 0px 1px 2px rgba(60, 64, 67, 0.3), 0px 1px 3px 1px rgba(60, 64, 67, 0.15);\n",
              "      fill: #174EA6;\n",
              "    }\n",
              "\n",
              "    [theme=dark] .colab-df-convert {\n",
              "      background-color: #3B4455;\n",
              "      fill: #D2E3FC;\n",
              "    }\n",
              "\n",
              "    [theme=dark] .colab-df-convert:hover {\n",
              "      background-color: #434B5C;\n",
              "      box-shadow: 0px 1px 3px 1px rgba(0, 0, 0, 0.15);\n",
              "      filter: drop-shadow(0px 1px 2px rgba(0, 0, 0, 0.3));\n",
              "      fill: #FFFFFF;\n",
              "    }\n",
              "  </style>\n",
              "\n",
              "      <script>\n",
              "        const buttonEl =\n",
              "          document.querySelector('#df-98931ef2-88c3-4448-80b5-2f379c49f3fa button.colab-df-convert');\n",
              "        buttonEl.style.display =\n",
              "          google.colab.kernel.accessAllowed ? 'block' : 'none';\n",
              "\n",
              "        async function convertToInteractive(key) {\n",
              "          const element = document.querySelector('#df-98931ef2-88c3-4448-80b5-2f379c49f3fa');\n",
              "          const dataTable =\n",
              "            await google.colab.kernel.invokeFunction('convertToInteractive',\n",
              "                                                     [key], {});\n",
              "          if (!dataTable) return;\n",
              "\n",
              "          const docLinkHtml = 'Like what you see? Visit the ' +\n",
              "            '<a target=\"_blank\" href=https://colab.research.google.com/notebooks/data_table.ipynb>data table notebook</a>'\n",
              "            + ' to learn more about interactive tables.';\n",
              "          element.innerHTML = '';\n",
              "          dataTable['output_type'] = 'display_data';\n",
              "          await google.colab.output.renderOutput(dataTable, element);\n",
              "          const docLink = document.createElement('div');\n",
              "          docLink.innerHTML = docLinkHtml;\n",
              "          element.appendChild(docLink);\n",
              "        }\n",
              "      </script>\n",
              "    </div>\n",
              "  </div>\n"
            ]
          },
          "metadata": {},
          "execution_count": 9
        }
      ],
      "source": [
        "# 1. head() 함수를 사용하여 train, test, submission 데이터의 처음 5행을 확인해 보세요.\n",
        "train.head()"
      ]
    },
    {
      "cell_type": "code",
      "source": [
        "test.head()"
      ],
      "metadata": {
        "colab": {
          "base_uri": "https://localhost:8080/",
          "height": 461
        },
        "id": "FjV1MC1vGzZl",
        "outputId": "1950bd61-aa8b-48e9-cede-2798738bc521"
      },
      "execution_count": 10,
      "outputs": [
        {
          "output_type": "execute_result",
          "data": {
            "text/plain": [
              "   index gender car reality  child_num  income_total           income_type  \\\n",
              "0  26457      M   Y       N          0      112500.0             Pensioner   \n",
              "1  26458      F   N       Y          0      135000.0         State servant   \n",
              "2  26459      F   N       Y          0       69372.0               Working   \n",
              "3  26460      M   Y       N          0      112500.0  Commercial associate   \n",
              "4  26461      F   Y       Y          0      225000.0         State servant   \n",
              "\n",
              "                        edu_type     family_type         house_type  \\\n",
              "0  Secondary / secondary special  Civil marriage  House / apartment   \n",
              "1               Higher education         Married  House / apartment   \n",
              "2  Secondary / secondary special         Married  House / apartment   \n",
              "3  Secondary / secondary special         Married  House / apartment   \n",
              "4               Higher education         Married  House / apartment   \n",
              "\n",
              "   DAYS_BIRTH  DAYS_EMPLOYED  FLAG_MOBIL  work_phone  phone  email  \\\n",
              "0      -21990         365243           1           0      1      0   \n",
              "1      -18964          -8671           1           0      1      0   \n",
              "2      -15887           -217           1           1      1      0   \n",
              "3      -19270          -2531           1           1      0      0   \n",
              "4      -17822          -9385           1           1      0      0   \n",
              "\n",
              "   occyp_type  family_size  begin_month  \n",
              "0         NaN          2.0        -60.0  \n",
              "1  Core staff          2.0        -36.0  \n",
              "2    Laborers          2.0        -40.0  \n",
              "3     Drivers          2.0        -41.0  \n",
              "4    Managers          2.0         -8.0  "
            ],
            "text/html": [
              "\n",
              "\n",
              "  <div id=\"df-7c5f1b10-efe3-4ac1-b2df-9d0281e0d06a\">\n",
              "    <div class=\"colab-df-container\">\n",
              "      <div>\n",
              "<style scoped>\n",
              "    .dataframe tbody tr th:only-of-type {\n",
              "        vertical-align: middle;\n",
              "    }\n",
              "\n",
              "    .dataframe tbody tr th {\n",
              "        vertical-align: top;\n",
              "    }\n",
              "\n",
              "    .dataframe thead th {\n",
              "        text-align: right;\n",
              "    }\n",
              "</style>\n",
              "<table border=\"1\" class=\"dataframe\">\n",
              "  <thead>\n",
              "    <tr style=\"text-align: right;\">\n",
              "      <th></th>\n",
              "      <th>index</th>\n",
              "      <th>gender</th>\n",
              "      <th>car</th>\n",
              "      <th>reality</th>\n",
              "      <th>child_num</th>\n",
              "      <th>income_total</th>\n",
              "      <th>income_type</th>\n",
              "      <th>edu_type</th>\n",
              "      <th>family_type</th>\n",
              "      <th>house_type</th>\n",
              "      <th>DAYS_BIRTH</th>\n",
              "      <th>DAYS_EMPLOYED</th>\n",
              "      <th>FLAG_MOBIL</th>\n",
              "      <th>work_phone</th>\n",
              "      <th>phone</th>\n",
              "      <th>email</th>\n",
              "      <th>occyp_type</th>\n",
              "      <th>family_size</th>\n",
              "      <th>begin_month</th>\n",
              "    </tr>\n",
              "  </thead>\n",
              "  <tbody>\n",
              "    <tr>\n",
              "      <th>0</th>\n",
              "      <td>26457</td>\n",
              "      <td>M</td>\n",
              "      <td>Y</td>\n",
              "      <td>N</td>\n",
              "      <td>0</td>\n",
              "      <td>112500.0</td>\n",
              "      <td>Pensioner</td>\n",
              "      <td>Secondary / secondary special</td>\n",
              "      <td>Civil marriage</td>\n",
              "      <td>House / apartment</td>\n",
              "      <td>-21990</td>\n",
              "      <td>365243</td>\n",
              "      <td>1</td>\n",
              "      <td>0</td>\n",
              "      <td>1</td>\n",
              "      <td>0</td>\n",
              "      <td>NaN</td>\n",
              "      <td>2.0</td>\n",
              "      <td>-60.0</td>\n",
              "    </tr>\n",
              "    <tr>\n",
              "      <th>1</th>\n",
              "      <td>26458</td>\n",
              "      <td>F</td>\n",
              "      <td>N</td>\n",
              "      <td>Y</td>\n",
              "      <td>0</td>\n",
              "      <td>135000.0</td>\n",
              "      <td>State servant</td>\n",
              "      <td>Higher education</td>\n",
              "      <td>Married</td>\n",
              "      <td>House / apartment</td>\n",
              "      <td>-18964</td>\n",
              "      <td>-8671</td>\n",
              "      <td>1</td>\n",
              "      <td>0</td>\n",
              "      <td>1</td>\n",
              "      <td>0</td>\n",
              "      <td>Core staff</td>\n",
              "      <td>2.0</td>\n",
              "      <td>-36.0</td>\n",
              "    </tr>\n",
              "    <tr>\n",
              "      <th>2</th>\n",
              "      <td>26459</td>\n",
              "      <td>F</td>\n",
              "      <td>N</td>\n",
              "      <td>Y</td>\n",
              "      <td>0</td>\n",
              "      <td>69372.0</td>\n",
              "      <td>Working</td>\n",
              "      <td>Secondary / secondary special</td>\n",
              "      <td>Married</td>\n",
              "      <td>House / apartment</td>\n",
              "      <td>-15887</td>\n",
              "      <td>-217</td>\n",
              "      <td>1</td>\n",
              "      <td>1</td>\n",
              "      <td>1</td>\n",
              "      <td>0</td>\n",
              "      <td>Laborers</td>\n",
              "      <td>2.0</td>\n",
              "      <td>-40.0</td>\n",
              "    </tr>\n",
              "    <tr>\n",
              "      <th>3</th>\n",
              "      <td>26460</td>\n",
              "      <td>M</td>\n",
              "      <td>Y</td>\n",
              "      <td>N</td>\n",
              "      <td>0</td>\n",
              "      <td>112500.0</td>\n",
              "      <td>Commercial associate</td>\n",
              "      <td>Secondary / secondary special</td>\n",
              "      <td>Married</td>\n",
              "      <td>House / apartment</td>\n",
              "      <td>-19270</td>\n",
              "      <td>-2531</td>\n",
              "      <td>1</td>\n",
              "      <td>1</td>\n",
              "      <td>0</td>\n",
              "      <td>0</td>\n",
              "      <td>Drivers</td>\n",
              "      <td>2.0</td>\n",
              "      <td>-41.0</td>\n",
              "    </tr>\n",
              "    <tr>\n",
              "      <th>4</th>\n",
              "      <td>26461</td>\n",
              "      <td>F</td>\n",
              "      <td>Y</td>\n",
              "      <td>Y</td>\n",
              "      <td>0</td>\n",
              "      <td>225000.0</td>\n",
              "      <td>State servant</td>\n",
              "      <td>Higher education</td>\n",
              "      <td>Married</td>\n",
              "      <td>House / apartment</td>\n",
              "      <td>-17822</td>\n",
              "      <td>-9385</td>\n",
              "      <td>1</td>\n",
              "      <td>1</td>\n",
              "      <td>0</td>\n",
              "      <td>0</td>\n",
              "      <td>Managers</td>\n",
              "      <td>2.0</td>\n",
              "      <td>-8.0</td>\n",
              "    </tr>\n",
              "  </tbody>\n",
              "</table>\n",
              "</div>\n",
              "      <button class=\"colab-df-convert\" onclick=\"convertToInteractive('df-7c5f1b10-efe3-4ac1-b2df-9d0281e0d06a')\"\n",
              "              title=\"Convert this dataframe to an interactive table.\"\n",
              "              style=\"display:none;\">\n",
              "\n",
              "  <svg xmlns=\"http://www.w3.org/2000/svg\" height=\"24px\"viewBox=\"0 0 24 24\"\n",
              "       width=\"24px\">\n",
              "    <path d=\"M0 0h24v24H0V0z\" fill=\"none\"/>\n",
              "    <path d=\"M18.56 5.44l.94 2.06.94-2.06 2.06-.94-2.06-.94-.94-2.06-.94 2.06-2.06.94zm-11 1L8.5 8.5l.94-2.06 2.06-.94-2.06-.94L8.5 2.5l-.94 2.06-2.06.94zm10 10l.94 2.06.94-2.06 2.06-.94-2.06-.94-.94-2.06-.94 2.06-2.06.94z\"/><path d=\"M17.41 7.96l-1.37-1.37c-.4-.4-.92-.59-1.43-.59-.52 0-1.04.2-1.43.59L10.3 9.45l-7.72 7.72c-.78.78-.78 2.05 0 2.83L4 21.41c.39.39.9.59 1.41.59.51 0 1.02-.2 1.41-.59l7.78-7.78 2.81-2.81c.8-.78.8-2.07 0-2.86zM5.41 20L4 18.59l7.72-7.72 1.47 1.35L5.41 20z\"/>\n",
              "  </svg>\n",
              "      </button>\n",
              "\n",
              "\n",
              "\n",
              "    <div id=\"df-c41acf44-bb05-4f06-a27b-5cc24baf3c2c\">\n",
              "      <button class=\"colab-df-quickchart\" onclick=\"quickchart('df-c41acf44-bb05-4f06-a27b-5cc24baf3c2c')\"\n",
              "              title=\"Suggest charts.\"\n",
              "              style=\"display:none;\">\n",
              "\n",
              "<svg xmlns=\"http://www.w3.org/2000/svg\" height=\"24px\"viewBox=\"0 0 24 24\"\n",
              "     width=\"24px\">\n",
              "    <g>\n",
              "        <path d=\"M19 3H5c-1.1 0-2 .9-2 2v14c0 1.1.9 2 2 2h14c1.1 0 2-.9 2-2V5c0-1.1-.9-2-2-2zM9 17H7v-7h2v7zm4 0h-2V7h2v10zm4 0h-2v-4h2v4z\"/>\n",
              "    </g>\n",
              "</svg>\n",
              "      </button>\n",
              "    </div>\n",
              "\n",
              "<style>\n",
              "  .colab-df-quickchart {\n",
              "    background-color: #E8F0FE;\n",
              "    border: none;\n",
              "    border-radius: 50%;\n",
              "    cursor: pointer;\n",
              "    display: none;\n",
              "    fill: #1967D2;\n",
              "    height: 32px;\n",
              "    padding: 0 0 0 0;\n",
              "    width: 32px;\n",
              "  }\n",
              "\n",
              "  .colab-df-quickchart:hover {\n",
              "    background-color: #E2EBFA;\n",
              "    box-shadow: 0px 1px 2px rgba(60, 64, 67, 0.3), 0px 1px 3px 1px rgba(60, 64, 67, 0.15);\n",
              "    fill: #174EA6;\n",
              "  }\n",
              "\n",
              "  [theme=dark] .colab-df-quickchart {\n",
              "    background-color: #3B4455;\n",
              "    fill: #D2E3FC;\n",
              "  }\n",
              "\n",
              "  [theme=dark] .colab-df-quickchart:hover {\n",
              "    background-color: #434B5C;\n",
              "    box-shadow: 0px 1px 3px 1px rgba(0, 0, 0, 0.15);\n",
              "    filter: drop-shadow(0px 1px 2px rgba(0, 0, 0, 0.3));\n",
              "    fill: #FFFFFF;\n",
              "  }\n",
              "</style>\n",
              "\n",
              "    <script>\n",
              "      async function quickchart(key) {\n",
              "        const containerElement = document.querySelector('#' + key);\n",
              "        const charts = await google.colab.kernel.invokeFunction(\n",
              "            'suggestCharts', [key], {});\n",
              "      }\n",
              "    </script>\n",
              "\n",
              "      <script>\n",
              "\n",
              "function displayQuickchartButton(domScope) {\n",
              "  let quickchartButtonEl =\n",
              "    domScope.querySelector('#df-c41acf44-bb05-4f06-a27b-5cc24baf3c2c button.colab-df-quickchart');\n",
              "  quickchartButtonEl.style.display =\n",
              "    google.colab.kernel.accessAllowed ? 'block' : 'none';\n",
              "}\n",
              "\n",
              "        displayQuickchartButton(document);\n",
              "      </script>\n",
              "      <style>\n",
              "    .colab-df-container {\n",
              "      display:flex;\n",
              "      flex-wrap:wrap;\n",
              "      gap: 12px;\n",
              "    }\n",
              "\n",
              "    .colab-df-convert {\n",
              "      background-color: #E8F0FE;\n",
              "      border: none;\n",
              "      border-radius: 50%;\n",
              "      cursor: pointer;\n",
              "      display: none;\n",
              "      fill: #1967D2;\n",
              "      height: 32px;\n",
              "      padding: 0 0 0 0;\n",
              "      width: 32px;\n",
              "    }\n",
              "\n",
              "    .colab-df-convert:hover {\n",
              "      background-color: #E2EBFA;\n",
              "      box-shadow: 0px 1px 2px rgba(60, 64, 67, 0.3), 0px 1px 3px 1px rgba(60, 64, 67, 0.15);\n",
              "      fill: #174EA6;\n",
              "    }\n",
              "\n",
              "    [theme=dark] .colab-df-convert {\n",
              "      background-color: #3B4455;\n",
              "      fill: #D2E3FC;\n",
              "    }\n",
              "\n",
              "    [theme=dark] .colab-df-convert:hover {\n",
              "      background-color: #434B5C;\n",
              "      box-shadow: 0px 1px 3px 1px rgba(0, 0, 0, 0.15);\n",
              "      filter: drop-shadow(0px 1px 2px rgba(0, 0, 0, 0.3));\n",
              "      fill: #FFFFFF;\n",
              "    }\n",
              "  </style>\n",
              "\n",
              "      <script>\n",
              "        const buttonEl =\n",
              "          document.querySelector('#df-7c5f1b10-efe3-4ac1-b2df-9d0281e0d06a button.colab-df-convert');\n",
              "        buttonEl.style.display =\n",
              "          google.colab.kernel.accessAllowed ? 'block' : 'none';\n",
              "\n",
              "        async function convertToInteractive(key) {\n",
              "          const element = document.querySelector('#df-7c5f1b10-efe3-4ac1-b2df-9d0281e0d06a');\n",
              "          const dataTable =\n",
              "            await google.colab.kernel.invokeFunction('convertToInteractive',\n",
              "                                                     [key], {});\n",
              "          if (!dataTable) return;\n",
              "\n",
              "          const docLinkHtml = 'Like what you see? Visit the ' +\n",
              "            '<a target=\"_blank\" href=https://colab.research.google.com/notebooks/data_table.ipynb>data table notebook</a>'\n",
              "            + ' to learn more about interactive tables.';\n",
              "          element.innerHTML = '';\n",
              "          dataTable['output_type'] = 'display_data';\n",
              "          await google.colab.output.renderOutput(dataTable, element);\n",
              "          const docLink = document.createElement('div');\n",
              "          docLink.innerHTML = docLinkHtml;\n",
              "          element.appendChild(docLink);\n",
              "        }\n",
              "      </script>\n",
              "    </div>\n",
              "  </div>\n"
            ]
          },
          "metadata": {},
          "execution_count": 10
        }
      ]
    },
    {
      "cell_type": "markdown",
      "source": [
        "각 컬럼은 **문자열, 정수, 실수** 등 다양하게 구성되어 있네요!    \n",
        "test 데이터는 예측해야할 컬럼인 <font color=\"green\">credit</font>가 없습니다."
      ],
      "metadata": {
        "id": "qNqLLqgGHUK6"
      }
    },
    {
      "cell_type": "code",
      "source": [
        "submission.head()"
      ],
      "metadata": {
        "colab": {
          "base_uri": "https://localhost:8080/",
          "height": 206
        },
        "id": "F400vLivG2kc",
        "outputId": "9f01dfb3-62d1-4cb4-b6b6-0ef1b78bb0b7"
      },
      "execution_count": 11,
      "outputs": [
        {
          "output_type": "execute_result",
          "data": {
            "text/plain": [
              "   index  0  1  2\n",
              "0  26457  0  0  0\n",
              "1  26458  0  0  0\n",
              "2  26459  0  0  0\n",
              "3  26460  0  0  0\n",
              "4  26461  0  0  0"
            ],
            "text/html": [
              "\n",
              "\n",
              "  <div id=\"df-ce485c5f-744e-452d-ab64-87ea3b2ae73d\">\n",
              "    <div class=\"colab-df-container\">\n",
              "      <div>\n",
              "<style scoped>\n",
              "    .dataframe tbody tr th:only-of-type {\n",
              "        vertical-align: middle;\n",
              "    }\n",
              "\n",
              "    .dataframe tbody tr th {\n",
              "        vertical-align: top;\n",
              "    }\n",
              "\n",
              "    .dataframe thead th {\n",
              "        text-align: right;\n",
              "    }\n",
              "</style>\n",
              "<table border=\"1\" class=\"dataframe\">\n",
              "  <thead>\n",
              "    <tr style=\"text-align: right;\">\n",
              "      <th></th>\n",
              "      <th>index</th>\n",
              "      <th>0</th>\n",
              "      <th>1</th>\n",
              "      <th>2</th>\n",
              "    </tr>\n",
              "  </thead>\n",
              "  <tbody>\n",
              "    <tr>\n",
              "      <th>0</th>\n",
              "      <td>26457</td>\n",
              "      <td>0</td>\n",
              "      <td>0</td>\n",
              "      <td>0</td>\n",
              "    </tr>\n",
              "    <tr>\n",
              "      <th>1</th>\n",
              "      <td>26458</td>\n",
              "      <td>0</td>\n",
              "      <td>0</td>\n",
              "      <td>0</td>\n",
              "    </tr>\n",
              "    <tr>\n",
              "      <th>2</th>\n",
              "      <td>26459</td>\n",
              "      <td>0</td>\n",
              "      <td>0</td>\n",
              "      <td>0</td>\n",
              "    </tr>\n",
              "    <tr>\n",
              "      <th>3</th>\n",
              "      <td>26460</td>\n",
              "      <td>0</td>\n",
              "      <td>0</td>\n",
              "      <td>0</td>\n",
              "    </tr>\n",
              "    <tr>\n",
              "      <th>4</th>\n",
              "      <td>26461</td>\n",
              "      <td>0</td>\n",
              "      <td>0</td>\n",
              "      <td>0</td>\n",
              "    </tr>\n",
              "  </tbody>\n",
              "</table>\n",
              "</div>\n",
              "      <button class=\"colab-df-convert\" onclick=\"convertToInteractive('df-ce485c5f-744e-452d-ab64-87ea3b2ae73d')\"\n",
              "              title=\"Convert this dataframe to an interactive table.\"\n",
              "              style=\"display:none;\">\n",
              "\n",
              "  <svg xmlns=\"http://www.w3.org/2000/svg\" height=\"24px\"viewBox=\"0 0 24 24\"\n",
              "       width=\"24px\">\n",
              "    <path d=\"M0 0h24v24H0V0z\" fill=\"none\"/>\n",
              "    <path d=\"M18.56 5.44l.94 2.06.94-2.06 2.06-.94-2.06-.94-.94-2.06-.94 2.06-2.06.94zm-11 1L8.5 8.5l.94-2.06 2.06-.94-2.06-.94L8.5 2.5l-.94 2.06-2.06.94zm10 10l.94 2.06.94-2.06 2.06-.94-2.06-.94-.94-2.06-.94 2.06-2.06.94z\"/><path d=\"M17.41 7.96l-1.37-1.37c-.4-.4-.92-.59-1.43-.59-.52 0-1.04.2-1.43.59L10.3 9.45l-7.72 7.72c-.78.78-.78 2.05 0 2.83L4 21.41c.39.39.9.59 1.41.59.51 0 1.02-.2 1.41-.59l7.78-7.78 2.81-2.81c.8-.78.8-2.07 0-2.86zM5.41 20L4 18.59l7.72-7.72 1.47 1.35L5.41 20z\"/>\n",
              "  </svg>\n",
              "      </button>\n",
              "\n",
              "\n",
              "\n",
              "    <div id=\"df-01d0ccb9-38e9-4718-b0be-289d6de3d0d3\">\n",
              "      <button class=\"colab-df-quickchart\" onclick=\"quickchart('df-01d0ccb9-38e9-4718-b0be-289d6de3d0d3')\"\n",
              "              title=\"Suggest charts.\"\n",
              "              style=\"display:none;\">\n",
              "\n",
              "<svg xmlns=\"http://www.w3.org/2000/svg\" height=\"24px\"viewBox=\"0 0 24 24\"\n",
              "     width=\"24px\">\n",
              "    <g>\n",
              "        <path d=\"M19 3H5c-1.1 0-2 .9-2 2v14c0 1.1.9 2 2 2h14c1.1 0 2-.9 2-2V5c0-1.1-.9-2-2-2zM9 17H7v-7h2v7zm4 0h-2V7h2v10zm4 0h-2v-4h2v4z\"/>\n",
              "    </g>\n",
              "</svg>\n",
              "      </button>\n",
              "    </div>\n",
              "\n",
              "<style>\n",
              "  .colab-df-quickchart {\n",
              "    background-color: #E8F0FE;\n",
              "    border: none;\n",
              "    border-radius: 50%;\n",
              "    cursor: pointer;\n",
              "    display: none;\n",
              "    fill: #1967D2;\n",
              "    height: 32px;\n",
              "    padding: 0 0 0 0;\n",
              "    width: 32px;\n",
              "  }\n",
              "\n",
              "  .colab-df-quickchart:hover {\n",
              "    background-color: #E2EBFA;\n",
              "    box-shadow: 0px 1px 2px rgba(60, 64, 67, 0.3), 0px 1px 3px 1px rgba(60, 64, 67, 0.15);\n",
              "    fill: #174EA6;\n",
              "  }\n",
              "\n",
              "  [theme=dark] .colab-df-quickchart {\n",
              "    background-color: #3B4455;\n",
              "    fill: #D2E3FC;\n",
              "  }\n",
              "\n",
              "  [theme=dark] .colab-df-quickchart:hover {\n",
              "    background-color: #434B5C;\n",
              "    box-shadow: 0px 1px 3px 1px rgba(0, 0, 0, 0.15);\n",
              "    filter: drop-shadow(0px 1px 2px rgba(0, 0, 0, 0.3));\n",
              "    fill: #FFFFFF;\n",
              "  }\n",
              "</style>\n",
              "\n",
              "    <script>\n",
              "      async function quickchart(key) {\n",
              "        const containerElement = document.querySelector('#' + key);\n",
              "        const charts = await google.colab.kernel.invokeFunction(\n",
              "            'suggestCharts', [key], {});\n",
              "      }\n",
              "    </script>\n",
              "\n",
              "      <script>\n",
              "\n",
              "function displayQuickchartButton(domScope) {\n",
              "  let quickchartButtonEl =\n",
              "    domScope.querySelector('#df-01d0ccb9-38e9-4718-b0be-289d6de3d0d3 button.colab-df-quickchart');\n",
              "  quickchartButtonEl.style.display =\n",
              "    google.colab.kernel.accessAllowed ? 'block' : 'none';\n",
              "}\n",
              "\n",
              "        displayQuickchartButton(document);\n",
              "      </script>\n",
              "      <style>\n",
              "    .colab-df-container {\n",
              "      display:flex;\n",
              "      flex-wrap:wrap;\n",
              "      gap: 12px;\n",
              "    }\n",
              "\n",
              "    .colab-df-convert {\n",
              "      background-color: #E8F0FE;\n",
              "      border: none;\n",
              "      border-radius: 50%;\n",
              "      cursor: pointer;\n",
              "      display: none;\n",
              "      fill: #1967D2;\n",
              "      height: 32px;\n",
              "      padding: 0 0 0 0;\n",
              "      width: 32px;\n",
              "    }\n",
              "\n",
              "    .colab-df-convert:hover {\n",
              "      background-color: #E2EBFA;\n",
              "      box-shadow: 0px 1px 2px rgba(60, 64, 67, 0.3), 0px 1px 3px 1px rgba(60, 64, 67, 0.15);\n",
              "      fill: #174EA6;\n",
              "    }\n",
              "\n",
              "    [theme=dark] .colab-df-convert {\n",
              "      background-color: #3B4455;\n",
              "      fill: #D2E3FC;\n",
              "    }\n",
              "\n",
              "    [theme=dark] .colab-df-convert:hover {\n",
              "      background-color: #434B5C;\n",
              "      box-shadow: 0px 1px 3px 1px rgba(0, 0, 0, 0.15);\n",
              "      filter: drop-shadow(0px 1px 2px rgba(0, 0, 0, 0.3));\n",
              "      fill: #FFFFFF;\n",
              "    }\n",
              "  </style>\n",
              "\n",
              "      <script>\n",
              "        const buttonEl =\n",
              "          document.querySelector('#df-ce485c5f-744e-452d-ab64-87ea3b2ae73d button.colab-df-convert');\n",
              "        buttonEl.style.display =\n",
              "          google.colab.kernel.accessAllowed ? 'block' : 'none';\n",
              "\n",
              "        async function convertToInteractive(key) {\n",
              "          const element = document.querySelector('#df-ce485c5f-744e-452d-ab64-87ea3b2ae73d');\n",
              "          const dataTable =\n",
              "            await google.colab.kernel.invokeFunction('convertToInteractive',\n",
              "                                                     [key], {});\n",
              "          if (!dataTable) return;\n",
              "\n",
              "          const docLinkHtml = 'Like what you see? Visit the ' +\n",
              "            '<a target=\"_blank\" href=https://colab.research.google.com/notebooks/data_table.ipynb>data table notebook</a>'\n",
              "            + ' to learn more about interactive tables.';\n",
              "          element.innerHTML = '';\n",
              "          dataTable['output_type'] = 'display_data';\n",
              "          await google.colab.output.renderOutput(dataTable, element);\n",
              "          const docLink = document.createElement('div');\n",
              "          docLink.innerHTML = docLinkHtml;\n",
              "          element.appendChild(docLink);\n",
              "        }\n",
              "      </script>\n",
              "    </div>\n",
              "  </div>\n"
            ]
          },
          "metadata": {},
          "execution_count": 11
        }
      ]
    },
    {
      "cell_type": "markdown",
      "source": [
        "submission 데이터에서 test 데이터와 동일한 index 컬럼이 보입니다.    \n",
        "test 데이터로 예측한 <font color=\"green\">credit</font>를 submission에 입력하면 되겠네요."
      ],
      "metadata": {
        "id": "LGR_QsMkIX7N"
      }
    },
    {
      "cell_type": "code",
      "source": [
        "# 2. info() 함수를 사용하여 train, test, submission 데이터의 결측치와 변수 타입을 확인해 보세요.\n",
        "train.info()"
      ],
      "metadata": {
        "colab": {
          "base_uri": "https://localhost:8080/"
        },
        "id": "80UGt0DBfsis",
        "outputId": "df1faacf-44d1-4be1-b6d7-8a14e0452511"
      },
      "execution_count": 12,
      "outputs": [
        {
          "output_type": "stream",
          "name": "stdout",
          "text": [
            "<class 'pandas.core.frame.DataFrame'>\n",
            "RangeIndex: 26457 entries, 0 to 26456\n",
            "Data columns (total 20 columns):\n",
            " #   Column         Non-Null Count  Dtype  \n",
            "---  ------         --------------  -----  \n",
            " 0   index          26457 non-null  int64  \n",
            " 1   gender         26457 non-null  object \n",
            " 2   car            26457 non-null  object \n",
            " 3   reality        26457 non-null  object \n",
            " 4   child_num      26457 non-null  int64  \n",
            " 5   income_total   26457 non-null  float64\n",
            " 6   income_type    26457 non-null  object \n",
            " 7   edu_type       26457 non-null  object \n",
            " 8   family_type    26457 non-null  object \n",
            " 9   house_type     26457 non-null  object \n",
            " 10  DAYS_BIRTH     26457 non-null  int64  \n",
            " 11  DAYS_EMPLOYED  26457 non-null  int64  \n",
            " 12  FLAG_MOBIL     26457 non-null  int64  \n",
            " 13  work_phone     26457 non-null  int64  \n",
            " 14  phone          26457 non-null  int64  \n",
            " 15  email          26457 non-null  int64  \n",
            " 16  occyp_type     18286 non-null  object \n",
            " 17  family_size    26457 non-null  float64\n",
            " 18  begin_month    26457 non-null  float64\n",
            " 19  credit         26457 non-null  float64\n",
            "dtypes: float64(4), int64(8), object(8)\n",
            "memory usage: 4.0+ MB\n"
          ]
        }
      ]
    },
    {
      "cell_type": "markdown",
      "source": [
        "**RangeIndex: 26457 entries, 0 to 26456**\n",
        "▶ train 데이터의 개수는 총 26457개입니다.\n",
        "\n",
        "**Data columns (total 20 columns):**\n",
        "▶ 20개의 컬럼으로 구성되어 있고요,\n",
        "\n",
        "**\\#   Column**\n",
        "▶ 각 컬럼 정보는 데이터 명세와 동일하네요.\n",
        "\n",
        "**16  occyp_type     18286 non-null  object**\n",
        "▶ occyp_type 컬럼에 일부 결측치가 존재합니다.\n",
        "\n",
        "**dtypes: float64(4), int64(8), object(8)**\n",
        "▶ 데이터 타입은 정수형, object, 실수형으로 다양하게 구성되어 있습니다."
      ],
      "metadata": {
        "id": "w2jamF34xv-d"
      }
    },
    {
      "cell_type": "code",
      "source": [
        "test.info()"
      ],
      "metadata": {
        "colab": {
          "base_uri": "https://localhost:8080/"
        },
        "id": "aURNAdPpG6cz",
        "outputId": "cba45802-5b96-4118-f301-97a232104459"
      },
      "execution_count": 14,
      "outputs": [
        {
          "output_type": "stream",
          "name": "stdout",
          "text": [
            "<class 'pandas.core.frame.DataFrame'>\n",
            "RangeIndex: 10000 entries, 0 to 9999\n",
            "Data columns (total 19 columns):\n",
            " #   Column         Non-Null Count  Dtype  \n",
            "---  ------         --------------  -----  \n",
            " 0   index          10000 non-null  int64  \n",
            " 1   gender         10000 non-null  object \n",
            " 2   car            10000 non-null  object \n",
            " 3   reality        10000 non-null  object \n",
            " 4   child_num      10000 non-null  int64  \n",
            " 5   income_total   10000 non-null  float64\n",
            " 6   income_type    10000 non-null  object \n",
            " 7   edu_type       10000 non-null  object \n",
            " 8   family_type    10000 non-null  object \n",
            " 9   house_type     10000 non-null  object \n",
            " 10  DAYS_BIRTH     10000 non-null  int64  \n",
            " 11  DAYS_EMPLOYED  10000 non-null  int64  \n",
            " 12  FLAG_MOBIL     10000 non-null  int64  \n",
            " 13  work_phone     10000 non-null  int64  \n",
            " 14  phone          10000 non-null  int64  \n",
            " 15  email          10000 non-null  int64  \n",
            " 16  occyp_type     6848 non-null   object \n",
            " 17  family_size    10000 non-null  float64\n",
            " 18  begin_month    10000 non-null  float64\n",
            "dtypes: float64(3), int64(8), object(8)\n",
            "memory usage: 1.4+ MB\n"
          ]
        }
      ]
    },
    {
      "cell_type": "markdown",
      "source": [
        "#### QUIZ     \n",
        "test.info()도 train.info()와 비슷하게 구성되어 있습니다.    \n",
        "위에서 확인한 해석을 토대로 **해석을 도전**해보세요!"
      ],
      "metadata": {
        "id": "17cESoN0LKTu"
      }
    },
    {
      "cell_type": "markdown",
      "source": [
        "**RangeIndex: 5463 entries, 0 to 5463**\n",
        "▶ test 데이터의 개수는 총 0,000개입니다.\n",
        "\n",
        "**Data columns (total 12 columns):**\n",
        "▶ 00개의 컬럼으로 구성되어 있고요,\n",
        "\n",
        "**\\#   Column**\n",
        "▶ 각 컬럼 정보는 데이터 명세와 동일하네요.\n",
        "\n",
        "**1216553 non-null**\n",
        "▶ 전체 데이터 모두 결측치가 없습니다.\n",
        "\n",
        "**dtypes: float64(1), int64(5), object(6)**\n",
        "▶ 데이터 타입은 00형, 000000, 00형으로 다양하게 구성되어 있습니다."
      ],
      "metadata": {
        "id": "AuP7Cf8f_ge0"
      }
    },
    {
      "cell_type": "markdown",
      "source": [
        "----\n",
        "#### ANSWER    "
      ],
      "metadata": {
        "id": "Be8dUOvX_1zA"
      }
    },
    {
      "cell_type": "markdown",
      "source": [
        "**RangeIndex: 5463 entries, 0 to 5463** ▶ test 데이터의 개수는 총 5,463개입니다.\n",
        "\n",
        "**Data columns (total 12 columns)**: ▶ 12개의 컬럼으로 구성되어 있고요,\n",
        "\n",
        "**\\# Column** ▶ 각 컬럼 정보는 데이터 명세와 동일하네요.\n",
        "\n",
        "**5463 non-null** ▶ 전체 데이터 모두 결측치가 없습니다.\n",
        "\n",
        "dtypes: float64(1), int64(5), object(6) ▶ 데이터 타입은 정수형, object, 실수형으로 다양하게 구성되어 있습니다."
      ],
      "metadata": {
        "id": "f7hDYfWRAnl4"
      }
    },
    {
      "cell_type": "code",
      "source": [
        "submission.info()"
      ],
      "metadata": {
        "colab": {
          "base_uri": "https://localhost:8080/"
        },
        "id": "eSS86dnCG6Rb",
        "outputId": "346eef18-cf59-4925-c12c-796034c6080b"
      },
      "execution_count": 15,
      "outputs": [
        {
          "output_type": "stream",
          "name": "stdout",
          "text": [
            "<class 'pandas.core.frame.DataFrame'>\n",
            "RangeIndex: 10000 entries, 0 to 9999\n",
            "Data columns (total 4 columns):\n",
            " #   Column  Non-Null Count  Dtype\n",
            "---  ------  --------------  -----\n",
            " 0   index   10000 non-null  int64\n",
            " 1   0       10000 non-null  int64\n",
            " 2   1       10000 non-null  int64\n",
            " 3   2       10000 non-null  int64\n",
            "dtypes: int64(4)\n",
            "memory usage: 312.6 KB\n"
          ]
        }
      ]
    },
    {
      "cell_type": "markdown",
      "metadata": {
        "id": "b95e05cc-f870-4107-9823-e06f11544575"
      },
      "source": [
        "# 4. 제출 준비하기\n",
        "\n",
        "이제 제출을 진행하겠습니다.\n",
        "\n",
        "초기 상태의 submission.csv 파일을 제출하여 **리더보드**에 올라가 봅시다.  \n",
        "\n",
        "이후 스테이지를 거듭하며 조금씩 점수를 갱신해보겠습니다.\n",
        "\n",
        "아래와 같이 to_csv 메소드를 이용하여 submission을 **submission.csv**로 저장해 제출할 수 있습니다.\n",
        "\n",
        "<font color=red>submission</font><font color=orange>.to_csv</font><font color=black>(</font><font color=green>'beseline.csv',</font><font color=blue>index=False</font><font color=black>)</font>     \n",
        "\n",
        "각 기능을 색깔로 구별해 볼까요? </br>     \n",
        "\n",
        "<font color=red>데이터셋이 있는 객체명</font><font color=orange>.객체가 가지고 있는 csv 파일 생성용 매소드(함수)</font><font color=black>(</font><font color=green>저장할 파일의 이름과 확장자,</font><font color=blue>인덱스를 설정하지 않겠음(False)</font><font color=black>)</font>"
      ]
    },
    {
      "cell_type": "markdown",
      "metadata": {
        "id": "60a533f5-dc3e-4bde-9366-c26affd42817"
      },
      "source": [
        "### Inst.\n",
        "\n",
        "기본적으로 **\".to_csv\" 메소드는 데이터프레임(ex. submission) 객체의 내용을 csv 파일 형태로 만들어 저장해 주는 기능**입니다. </br>\n",
        "이렇게 해야 비로소 파이썬 안에서 작업한 내용이 파이썬 밖으로 빠져나가 여러분이 만질 수 있는 형태가 되는 거죠. </br>\n",
        "이처럼 파일을 불러서 처리한 후, 저장하는 일련의 과정을 \"데이터 i/o(input/output)를 처리한다\" 라고 합니다. </br>\n",
        "\n",
        "그럼 **to_csv 메소드를 이용하여 submission 객체의 내용을 csv 파일 형태**로 만들어 주고,   \n",
        "index=False를 하여 추가적인 인덱스 설정을 하지 말아 보겠습니다.    "
      ]
    },
    {
      "cell_type": "code",
      "source": [
        "# to_csv 메소드를 이용하여 submission을 submission.csv로 저장해보세요.\n"
      ],
      "metadata": {
        "id": "dquSnwSR6mQY"
      },
      "execution_count": null,
      "outputs": []
    },
    {
      "cell_type": "markdown",
      "metadata": {
        "id": "0fce98b1-bfa7-4f96-b04c-6ad79bc1a32b"
      },
      "source": [
        "### Hint.\n",
        "**정확한 채점을 위해서는 index=False를 꼭 넣어 주어야 합니다.**"
      ]
    },
    {
      "cell_type": "markdown",
      "metadata": {
        "id": "142297ff-0bb4-43d8-99ea-c1de0d1d37b3"
      },
      "source": [
        "### Solution."
      ]
    },
    {
      "cell_type": "code",
      "execution_count": 16,
      "metadata": {
        "id": "ec7df345-9df0-4df4-94f3-192a460df945"
      },
      "outputs": [],
      "source": [
        "# to_csv 메소드를 이용하여 submission을 submission.csv로 저장해보세요.\n",
        "submission.to_csv('submission.csv', index=False)"
      ]
    },
    {
      "cell_type": "code",
      "source": [],
      "metadata": {
        "id": "VkZJE_8_FUJT"
      },
      "execution_count": null,
      "outputs": []
    }
  ]
}